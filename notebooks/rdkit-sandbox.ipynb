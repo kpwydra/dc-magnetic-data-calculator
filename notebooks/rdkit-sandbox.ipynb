{
 "cells": [
  {
   "cell_type": "markdown",
   "id": "3f84e25e",
   "metadata": {},
   "source": [
    "## References\n",
    "\n",
    "- [RDKit Documentation](https://www.rdkit.org/docs/GettingStartedInPython.html)\n",
    "- [PubChem](https://pubchem.ncbi.nlm.nih.gov/) - find SDF files for molecules\n",
    "- YouTube Tutorial\n",
    "  - [Part1](https://www.youtube.com/watch?v=NozaWUkJ3YM)\n"
   ]
  },
  {
   "cell_type": "markdown",
   "id": "0a885850",
   "metadata": {},
   "source": [
    "## Init Parameters\n"
   ]
  },
  {
   "cell_type": "code",
   "execution_count": 19,
   "id": "931b6d00",
   "metadata": {},
   "outputs": [],
   "source": [
    "from rdkit import Chem\n",
    "from rdkit.Chem import Draw\n",
    "\n",
    "from src import SDF_DIR\n",
    "\n",
    "file = \"chlorobenzene_AsIIIAsV.sdf\""
   ]
  },
  {
   "cell_type": "markdown",
   "id": "64868044",
   "metadata": {},
   "source": [
    "## Sandbox\n"
   ]
  },
  {
   "cell_type": "code",
   "execution_count": 20,
   "id": "30eccb75",
   "metadata": {},
   "outputs": [
    {
     "name": "stdout",
     "output_type": "stream",
     "text": [
      "The file 'chlorobenzene_AsIIIAsV.sdf' contains '1' molecule(s).\n"
     ]
    }
   ],
   "source": [
    "# Loads Molecule from file to python object\n",
    "suppl: Chem.SDMolSupplier = Chem.SDMolSupplier(f\"{SDF_DIR.joinpath(file)}\")\n",
    "\n",
    "# Test if each molecule was loadded correctly\n",
    "for molecule in suppl:\n",
    "    assert molecule is not None\n",
    "\n",
    "mols = [x for x in suppl]  # one line for loop syntax, must know, very handy\n",
    "print(f\"The file '{file}' contains '{len(mols)}' molecule(s).\")\n",
    "\n",
    "assert len(mols) > 0  # make sure the file was loaded correctly\n",
    "mol = mols[0]  # SDF files can contain multiple molecules - we work with just one now\n"
   ]
  },
  {
   "cell_type": "code",
   "execution_count": 21,
   "id": "db502e73",
   "metadata": {},
   "outputs": [
    {
     "name": "stdout",
     "output_type": "stream",
     "text": [
      "Heavy Atom Number: 11\n",
      "All Atom Number: 16\n",
      "SMILES format: 'O=[As](O)(O)C1=[As]C=CC(Cl)=C1'\n"
     ]
    }
   ],
   "source": [
    "# Calling some basic functions on molecule object\n",
    "print(f\"Heavy Atom Number: {mol.GetNumAtoms()}\")\n",
    "print(f\"All Atom Number: {mol.GetNumAtoms(onlyExplicit=False)}\")\n",
    "print(f\"SMILES format: '{Chem.MolToSmiles(mol)}'\")\n"
   ]
  },
  {
   "cell_type": "code",
   "execution_count": 22,
   "id": "376ef2ed",
   "metadata": {},
   "outputs": [
    {
     "name": "stdout",
     "output_type": "stream",
     "text": [
      "Atom: C, AtomicNumber: 6, Mass: 12.011, GetIsAromatic: False, GetHybridization: SP2\n",
      "Atom: C, AtomicNumber: 6, Mass: 12.011, GetIsAromatic: False, GetHybridization: SP2\n",
      "Atom: C, AtomicNumber: 6, Mass: 12.011, GetIsAromatic: False, GetHybridization: SP2\n",
      "Atom: As, AtomicNumber: 33, Mass: 74.922, GetIsAromatic: False, GetHybridization: SP2\n",
      "Atom: C, AtomicNumber: 6, Mass: 12.011, GetIsAromatic: False, GetHybridization: SP2\n",
      "Atom: C, AtomicNumber: 6, Mass: 12.011, GetIsAromatic: False, GetHybridization: SP2\n",
      "Atom: O, AtomicNumber: 8, Mass: 15.999, GetIsAromatic: False, GetHybridization: SP2\n"
     ]
    }
   ],
   "source": [
    "# Calling some basic functions on atoms objects\n",
    "atoms: list[Chem.Atom] = [a for a in mol.GetAtoms()]\n",
    "for atom in atoms:\n",
    "    if atom.GetHybridization() == Chem.HybridizationType.SP2:\n",
    "        print(\n",
    "            f\"\"\"Atom: {atom.GetSymbol()}, AtomicNumber: {atom.GetAtomicNum()}, Mass: {atom.GetMass()}, GetIsAromatic: {atom.GetIsAromatic()}, GetHybridization: {atom.GetHybridization()}\"\"\"\n",
    "        )\n"
   ]
  },
  {
   "cell_type": "code",
   "execution_count": 23,
   "id": "c2879c3f",
   "metadata": {},
   "outputs": [],
   "source": [
    "# # Simple Drawing\n",
    "# img = Draw.MolToImage(mol, legend=file)\n",
    "# img"
   ]
  },
  {
   "cell_type": "markdown",
   "id": "8a6cc50a",
   "metadata": {},
   "source": [
    "#### 1. Compare RDkit with Element class. Preliminary coding.\n"
   ]
  },
  {
   "cell_type": "code",
   "execution_count": 24,
   "id": "cbeeb75b",
   "metadata": {},
   "outputs": [
    {
     "name": "stdout",
     "output_type": "stream",
     "text": [
      "None\n",
      "Atom: C, GetIsAromatic: False,  IsInRing: True, ox_state: -1, id: 0, neighbors: C, C, H\n",
      "Atom: C, GetIsAromatic: False,  IsInRing: True, ox_state: -3, id: 1, neighbors: C, As, As\n",
      "Atom: C, GetIsAromatic: False,  IsInRing: True, ox_state: 1, id: 2, neighbors: C, C, Cl\n",
      "Atom: As, GetIsAromatic: False,  IsInRing: True, ox_state: 3, id: 3, neighbors: C, C\n",
      "Atom: C, GetIsAromatic: False,  IsInRing: True, ox_state: -1, id: 4, neighbors: C, C, H\n",
      "Atom: C, GetIsAromatic: False,  IsInRing: True, ox_state: -2, id: 5, neighbors: As, C, H\n",
      "Atom: Cl, GetIsAromatic: False,  IsInRing: False, ox_state: -1, id: 6, neighbors: C\n",
      "Atom: As, GetIsAromatic: False,  IsInRing: False, ox_state: 5, id: 7, neighbors: C, O, O, O\n",
      "Atom: O, GetIsAromatic: False,  IsInRing: False, ox_state: -2, id: 8, neighbors: As\n",
      "Atom: O, GetIsAromatic: False,  IsInRing: False, ox_state: -2, id: 9, neighbors: As, H\n",
      "Atom: O, GetIsAromatic: False,  IsInRing: False, ox_state: -2, id: 10, neighbors: As, H\n",
      "Atom: H, GetIsAromatic: False,  IsInRing: False, ox_state: 1, id: 11, neighbors: C\n",
      "Atom: H, GetIsAromatic: False,  IsInRing: False, ox_state: 1, id: 12, neighbors: C\n",
      "Atom: H, GetIsAromatic: False,  IsInRing: False, ox_state: 1, id: 13, neighbors: C\n",
      "Atom: H, GetIsAromatic: False,  IsInRing: False, ox_state: 1, id: 14, neighbors: O\n",
      "Atom: H, GetIsAromatic: False,  IsInRing: False, ox_state: 1, id: 15, neighbors: O\n"
     ]
    }
   ],
   "source": [
    "# Calling some basic functions on atoms objects\n",
    "from rdkit.Chem import rdMolDescriptors\n",
    "from rdkit import Chem\n",
    "\n",
    "# Chem.SanitizeMol(mol)\n",
    "oxidation_states = rdMolDescriptors.CalcOxidationNumbers(mol)\n",
    "print(oxidation_states)\n",
    "\n",
    "mol = Chem.AddHs(mol)\n",
    "atoms: list[Chem.Atom] = [a for a in mol.GetAtoms()]\n",
    "\n",
    "for atom in atoms:\n",
    "    if atom.HasProp(\"OxidationNumber\"):\n",
    "        ox_state = atom.GetProp(\"OxidationNumber\")\n",
    "    else:\n",
    "        ox_state = 1\n",
    "\n",
    "    neighbors = [nbr.GetSymbol() for nbr in atom.GetNeighbors()]\n",
    "    neighbor_symbols = \", \".join(neighbors) if neighbors else \"none\"\n",
    "\n",
    "    print(\n",
    "        f\"\"\"Atom: {atom.GetSymbol()}, GetIsAromatic: {atom.GetIsAromatic()},  IsInRing: {atom.IsInRing()}, ox_state: {ox_state}, id: {atom.GetIdx()}, neighbors: {neighbor_symbols}\"\"\"\n",
    "    )"
   ]
  }
 ],
 "metadata": {
  "kernelspec": {
   "display_name": ".venv (3.13.5)",
   "language": "python",
   "name": "python3"
  },
  "language_info": {
   "codemirror_mode": {
    "name": "ipython",
    "version": 3
   },
   "file_extension": ".py",
   "mimetype": "text/x-python",
   "name": "python",
   "nbconvert_exporter": "python",
   "pygments_lexer": "ipython3",
   "version": "3.13.5"
  }
 },
 "nbformat": 4,
 "nbformat_minor": 5
}
