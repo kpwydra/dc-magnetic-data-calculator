{
 "cells": [
  {
   "cell_type": "markdown",
   "id": "3f84e25e",
   "metadata": {},
   "source": [
    "## References\n",
    "\n",
    "- [RDKit Documentation](https://www.rdkit.org/docs/GettingStartedInPython.html)\n",
    "- [PubChem](https://pubchem.ncbi.nlm.nih.gov/) - find SDF files for molecules\n",
    "- YouTube Tutorial\n",
    "  - [Part1](https://www.youtube.com/watch?v=NozaWUkJ3YM)\n"
   ]
  },
  {
   "cell_type": "markdown",
   "id": "0a885850",
   "metadata": {},
   "source": [
    "## Init Parameters\n"
   ]
  },
  {
   "cell_type": "code",
   "execution_count": 25,
   "id": "931b6d00",
   "metadata": {},
   "outputs": [],
   "source": [
    "from rdkit import Chem\n",
    "from rdkit.Chem import Draw\n",
    "\n",
    "from src import SDF_DIR\n",
    "\n",
    "file = \"CH3COONa.sdf\""
   ]
  },
  {
   "cell_type": "markdown",
   "id": "64868044",
   "metadata": {},
   "source": [
    "## Sandbox\n"
   ]
  },
  {
   "cell_type": "code",
   "execution_count": 26,
   "id": "30eccb75",
   "metadata": {},
   "outputs": [
    {
     "name": "stdout",
     "output_type": "stream",
     "text": [
      "The file 'CH3COONa.sdf' contains '2' molecule(s).\n"
     ]
    }
   ],
   "source": [
    "# Loads Molecule from file to python object\n",
    "suppl: Chem.SDMolSupplier = Chem.SDMolSupplier(f\"{SDF_DIR.joinpath(file)}\")\n",
    "\n",
    "# Test if each molecule was loadded correctly\n",
    "for molecule in suppl:\n",
    "    assert molecule is not None\n",
    "\n",
    "mols = [x for x in suppl]  # one line for loop syntax, must know, very handy\n",
    "print(f\"The file '{file}' contains '{len(mols)}' molecule(s).\")\n",
    "\n",
    "assert len(mols) > 0  # make sure the file was loaded correctly\n"
   ]
  },
  {
   "cell_type": "markdown",
   "id": "8a6cc50a",
   "metadata": {},
   "source": [
    "#### 1. Compare RDkit with Element class. Preliminary coding.\n"
   ]
  },
  {
   "cell_type": "code",
   "execution_count": 27,
   "id": "cbeeb75b",
   "metadata": {},
   "outputs": [
    {
     "name": "stdout",
     "output_type": "stream",
     "text": [
      "I am molecule 1\n",
      "\n",
      "Atom: C, GetIsAromatic: False,  IsInRing: False, ox_state: -3, id: 0, neighbors: C, H, H, H, FormalCharge: 0, CovalentNumber: 4\n",
      "Atom: C, GetIsAromatic: False,  IsInRing: False, ox_state: 3, id: 1, neighbors: C, O, O, FormalCharge: 0, CovalentNumber: 3\n",
      "Atom: O, GetIsAromatic: False,  IsInRing: False, ox_state: -2, id: 2, neighbors: C, FormalCharge: 0, CovalentNumber: 1\n",
      "Atom: O, GetIsAromatic: False,  IsInRing: False, ox_state: -2, id: 3, neighbors: C, FormalCharge: -1, CovalentNumber: 1\n",
      "Atom: H, GetIsAromatic: False,  IsInRing: False, ox_state: 1, id: 4, neighbors: C, FormalCharge: 0, CovalentNumber: 1\n",
      "Atom: H, GetIsAromatic: False,  IsInRing: False, ox_state: 1, id: 5, neighbors: C, FormalCharge: 0, CovalentNumber: 1\n",
      "Atom: H, GetIsAromatic: False,  IsInRing: False, ox_state: 1, id: 6, neighbors: C, FormalCharge: 0, CovalentNumber: 1\n",
      "I am molecule 2\n",
      "\n",
      "Atom: Na, GetIsAromatic: False,  IsInRing: False, ox_state: 1, id: 0, neighbors: none, FormalCharge: 1, CovalentNumber: 0\n"
     ]
    }
   ],
   "source": [
    "# Calling some basic functions on atoms objects\n",
    "from rdkit.Chem import rdMolDescriptors\n",
    "from rdkit import Chem\n",
    "\n",
    "for i in range(len(mols)):\n",
    "    mol = mols[i]\n",
    "    print(f\"I am molecule {i + 1}\\n\")\n",
    "\n",
    "    rdMolDescriptors.CalcOxidationNumbers(mol)\n",
    "\n",
    "    mol = Chem.AddHs(mol)\n",
    "    atoms: list[Chem.Atom] = [a for a in mol.GetAtoms()]\n",
    "\n",
    "    for atom in atoms:\n",
    "        if atom.HasProp(\"OxidationNumber\"):\n",
    "            ox_state = atom.GetProp(\"OxidationNumber\")\n",
    "        else:\n",
    "            ox_state = 1\n",
    "\n",
    "        neighbors = [nbr.GetSymbol() for nbr in atom.GetNeighbors()]\n",
    "        neighbor_symbols = \", \".join(neighbors) if neighbors else \"none\"\n",
    "\n",
    "        print(\n",
    "            f\"\"\"Atom: {atom.GetSymbol()}, GetIsAromatic: {atom.GetIsAromatic()},  IsInRing: {atom.IsInRing()}, ox_state: {ox_state}, id: {atom.GetIdx()}, neighbors: {neighbor_symbols}, FormalCharge: {atom.GetFormalCharge()}, CovalentNumber: {atom.GetDegree()}\"\"\"\n",
    "        )"
   ]
  }
 ],
 "metadata": {
  "kernelspec": {
   "display_name": ".venv (3.13.5)",
   "language": "python",
   "name": "python3"
  },
  "language_info": {
   "codemirror_mode": {
    "name": "ipython",
    "version": 3
   },
   "file_extension": ".py",
   "mimetype": "text/x-python",
   "name": "python",
   "nbconvert_exporter": "python",
   "pygments_lexer": "ipython3",
   "version": "3.13.5"
  }
 },
 "nbformat": 4,
 "nbformat_minor": 5
}
