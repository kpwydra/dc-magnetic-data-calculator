{
 "cells": [
  {
   "cell_type": "markdown",
   "id": "3f84e25e",
   "metadata": {},
   "source": [
    "## References\n",
    "\n",
    "- [RDKit Documentation](https://www.rdkit.org/docs/GettingStartedInPython.html)\n",
    "- [PubChem](https://pubchem.ncbi.nlm.nih.gov/) - find SDF files for molecules\n",
    "- YouTube Tutorial\n",
    "  - [Part1](https://www.youtube.com/watch?v=NozaWUkJ3YM)\n"
   ]
  },
  {
   "cell_type": "markdown",
   "id": "0a885850",
   "metadata": {},
   "source": [
    "## Init Parameters\n"
   ]
  },
  {
   "cell_type": "code",
   "execution_count": 23,
   "id": "931b6d00",
   "metadata": {},
   "outputs": [],
   "source": [
    "from rdkit import Chem\n",
    "from rdkit.Chem import Draw\n",
    "\n",
    "from src import SDF_DIR\n",
    "\n",
    "file = \"chlorobenzene_As.sdf\""
   ]
  },
  {
   "cell_type": "markdown",
   "id": "64868044",
   "metadata": {},
   "source": [
    "## Sandbox\n"
   ]
  },
  {
   "cell_type": "code",
   "execution_count": 24,
   "id": "30eccb75",
   "metadata": {},
   "outputs": [
    {
     "name": "stdout",
     "output_type": "stream",
     "text": [
      "The file 'chlorobenzene_As.sdf' contains '1' molecule(s).\n"
     ]
    }
   ],
   "source": [
    "# Loads Molecule from file to python object\n",
    "suppl: Chem.SDMolSupplier = Chem.SDMolSupplier(f\"{SDF_DIR.joinpath(file)}\")\n",
    "\n",
    "# Test if each molecule was loadded correctly\n",
    "for molecule in suppl:\n",
    "    assert molecule is not None\n",
    "\n",
    "mols = [x for x in suppl]  # one line for loop syntax, must know, very handy\n",
    "print(f\"The file '{file}' contains '{len(mols)}' molecule(s).\")\n",
    "\n",
    "assert len(mols) > 0  # make sure the file was loaded correctly\n",
    "mol = mols[0]  # SDF files can contain multiple molecules - we work with just one now\n"
   ]
  },
  {
   "cell_type": "code",
   "execution_count": 25,
   "id": "db502e73",
   "metadata": {},
   "outputs": [
    {
     "name": "stdout",
     "output_type": "stream",
     "text": [
      "Heavy Atom Number: 7\n",
      "All Atom Number: 11\n",
      "SMILES format: 'ClC1=CC=[As]C=C1'\n"
     ]
    }
   ],
   "source": [
    "# Calling some basic functions on molecule object\n",
    "print(f\"Heavy Atom Number: {mol.GetNumAtoms()}\")\n",
    "print(f\"All Atom Number: {mol.GetNumAtoms(onlyExplicit=False)}\")\n",
    "print(f\"SMILES format: '{Chem.MolToSmiles(mol)}'\")\n"
   ]
  },
  {
   "cell_type": "code",
   "execution_count": 26,
   "id": "376ef2ed",
   "metadata": {},
   "outputs": [
    {
     "name": "stdout",
     "output_type": "stream",
     "text": [
      "Atom: C, AtomicNumber: 6, Mass: 12.011, GetIsAromatic: False, GetHybridization: SP2\n",
      "Atom: C, AtomicNumber: 6, Mass: 12.011, GetIsAromatic: False, GetHybridization: SP2\n",
      "Atom: C, AtomicNumber: 6, Mass: 12.011, GetIsAromatic: False, GetHybridization: SP2\n",
      "Atom: As, AtomicNumber: 33, Mass: 74.922, GetIsAromatic: False, GetHybridization: SP2\n",
      "Atom: C, AtomicNumber: 6, Mass: 12.011, GetIsAromatic: False, GetHybridization: SP2\n",
      "Atom: C, AtomicNumber: 6, Mass: 12.011, GetIsAromatic: False, GetHybridization: SP2\n"
     ]
    }
   ],
   "source": [
    "# Calling some basic functions on atoms objects\n",
    "atoms: list[Chem.Atom] = [a for a in mol.GetAtoms()]\n",
    "for atom in atoms:\n",
    "    if atom.GetHybridization() == Chem.HybridizationType.SP2:\n",
    "        print(\n",
    "            f\"\"\"Atom: {atom.GetSymbol()}, AtomicNumber: {atom.GetAtomicNum()}, Mass: {atom.GetMass()}, GetIsAromatic: {atom.GetIsAromatic()}, GetHybridization: {atom.GetHybridization()}\"\"\"\n",
    "        )\n"
   ]
  },
  {
   "cell_type": "code",
   "execution_count": 27,
   "id": "c2879c3f",
   "metadata": {},
   "outputs": [],
   "source": [
    "# # Simple Drawing\n",
    "# img = Draw.MolToImage(mol, legend=file)\n",
    "# img"
   ]
  },
  {
   "cell_type": "markdown",
   "id": "8a6cc50a",
   "metadata": {},
   "source": [
    "#### 1. Compare RDkit with Element class. Preliminary coding."
   ]
  },
  {
   "cell_type": "code",
   "execution_count": null,
   "id": "cbeeb75b",
   "metadata": {},
   "outputs": [
    {
     "name": "stdout",
     "output_type": "stream",
     "text": [
      "None\n",
      "Atom: C, GetIsAromatic: False, \n",
      "        IsInRing: True, ox_state: -1\n",
      "Atom: C, GetIsAromatic: False, \n",
      "        IsInRing: True, ox_state: -3\n",
      "Atom: C, GetIsAromatic: False, \n",
      "        IsInRing: True, ox_state: 1\n",
      "Atom: As, GetIsAromatic: False, \n",
      "        IsInRing: True, ox_state: 3\n",
      "Atom: C, GetIsAromatic: False, \n",
      "        IsInRing: True, ox_state: -1\n",
      "Atom: C, GetIsAromatic: False, \n",
      "        IsInRing: True, ox_state: -2\n",
      "Atom: Cl, GetIsAromatic: False, \n",
      "        IsInRing: False, ox_state: -1\n"
     ]
    },
    {
     "ename": "KeyError",
     "evalue": "'OxidationNumber'",
     "output_type": "error",
     "traceback": [
      "\u001b[31m---------------------------------------------------------------------------\u001b[39m",
      "\u001b[31mKeyError\u001b[39m                                  Traceback (most recent call last)",
      "\u001b[36mCell\u001b[39m\u001b[36m \u001b[39m\u001b[32mIn[28]\u001b[39m\u001b[32m, line 13\u001b[39m\n\u001b[32m     10\u001b[39m atoms: \u001b[38;5;28mlist\u001b[39m[Chem.Atom] = [a \u001b[38;5;28;01mfor\u001b[39;00m a \u001b[38;5;129;01min\u001b[39;00m mol.GetAtoms()]\n\u001b[32m     12\u001b[39m \u001b[38;5;28;01mfor\u001b[39;00m atom \u001b[38;5;129;01min\u001b[39;00m atoms:\n\u001b[32m---> \u001b[39m\u001b[32m13\u001b[39m     ox_state = \u001b[43matom\u001b[49m\u001b[43m.\u001b[49m\u001b[43mGetProp\u001b[49m\u001b[43m(\u001b[49m\u001b[33;43m\"\u001b[39;49m\u001b[33;43mOxidationNumber\u001b[39;49m\u001b[33;43m\"\u001b[39;49m\u001b[43m,\u001b[49m\u001b[43m \u001b[49m\u001b[43mautoConvert\u001b[49m\u001b[43m=\u001b[49m\u001b[32;43m1\u001b[39;49m\u001b[43m)\u001b[49m\n\u001b[32m     14\u001b[39m     \u001b[38;5;28mprint\u001b[39m(\n\u001b[32m     15\u001b[39m         \u001b[33mf\u001b[39m\u001b[33m\"\"\"\u001b[39m\u001b[33mAtom: \u001b[39m\u001b[38;5;132;01m{\u001b[39;00matom.GetSymbol()\u001b[38;5;132;01m}\u001b[39;00m\u001b[33m, GetIsAromatic: \u001b[39m\u001b[38;5;132;01m{\u001b[39;00matom.GetIsAromatic()\u001b[38;5;132;01m}\u001b[39;00m\u001b[33m, \u001b[39m\n\u001b[32m     16\u001b[39m \u001b[33m        IsInRing: \u001b[39m\u001b[38;5;132;01m{\u001b[39;00matom.IsInRing()\u001b[38;5;132;01m}\u001b[39;00m\u001b[33m, ox_state: \u001b[39m\u001b[38;5;132;01m{\u001b[39;00mox_state\u001b[38;5;132;01m}\u001b[39;00m\u001b[33m\"\"\"\u001b[39m\n\u001b[32m     17\u001b[39m     )\n",
      "\u001b[31mKeyError\u001b[39m: 'OxidationNumber'"
     ]
    }
   ],
   "source": [
    "# Calling some basic functions on atoms objects\n",
    "from rdkit.Chem import rdMolDescriptors\n",
    "from rdkit import Chem\n",
    "\n",
    "# Chem.SanitizeMol(mol)\n",
    "oxidation_states = rdMolDescriptors.CalcOxidationNumbers(mol)\n",
    "print(oxidation_states)\n",
    "\n",
    "mol = Chem.AddHs(mol)\n",
    "atoms: list[Chem.Atom] = [a for a in mol.GetAtoms()]\n",
    "\n",
    "for atom in atoms:\n",
    "    if atom.HasProp(\"OxidationNumber\"):\n",
    "        ox_state = atom.GetProp(\"OxidationNumber\")\n",
    "    else:\n",
    "        ox_state = \"N/A\"\n",
    "    print(\n",
    "        f\"\"\"Atom: {atom.GetSymbol()}, GetIsAromatic: {atom.GetIsAromatic()}, \n",
    "        IsInRing: {atom.IsInRing()}, ox_state: {ox_state}\"\"\"\n",
    "    )"
   ]
  }
 ],
 "metadata": {
  "kernelspec": {
   "display_name": ".venv (3.13.5)",
   "language": "python",
   "name": "python3"
  },
  "language_info": {
   "codemirror_mode": {
    "name": "ipython",
    "version": 3
   },
   "file_extension": ".py",
   "mimetype": "text/x-python",
   "name": "python",
   "nbconvert_exporter": "python",
   "pygments_lexer": "ipython3",
   "version": "3.13.5"
  }
 },
 "nbformat": 4,
 "nbformat_minor": 5
}
